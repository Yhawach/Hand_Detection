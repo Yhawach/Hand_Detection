{
 "cells": [
  {
   "cell_type": "code",
   "execution_count": 1,
   "metadata": {},
   "outputs": [
    {
     "ename": "KeyboardInterrupt",
     "evalue": "",
     "output_type": "error",
     "traceback": [
      "\u001b[1;31m---------------------------------------------------------------------------\u001b[0m",
      "\u001b[1;31mKeyboardInterrupt\u001b[0m                         Traceback (most recent call last)",
      "\u001b[1;32mf:\\Semester 10\\Robotics\\Hand detection.ipynb Cell 1\u001b[0m in \u001b[0;36m5\n\u001b[0;32m     <a href='vscode-notebook-cell:/f%3A/Semester%2010/Robotics/Hand%20detection.ipynb#W0sZmlsZQ%3D%3D?line=44'>45</a>\u001b[0m                 mp_drawing\u001b[39m.\u001b[39mdraw_landmarks(image, hand_landmarks, mp_hands\u001b[39m.\u001b[39mHAND_CONNECTIONS)\n\u001b[0;32m     <a href='vscode-notebook-cell:/f%3A/Semester%2010/Robotics/Hand%20detection.ipynb#W0sZmlsZQ%3D%3D?line=46'>47</a>\u001b[0m             cv2\u001b[39m.\u001b[39mimshow(\u001b[39m'\u001b[39m\u001b[39mMediaPipe Hands\u001b[39m\u001b[39m'\u001b[39m, image)\n\u001b[1;32m---> <a href='vscode-notebook-cell:/f%3A/Semester%2010/Robotics/Hand%20detection.ipynb#W0sZmlsZQ%3D%3D?line=50'>51</a>\u001b[0m         \u001b[39mif\u001b[39;00m cv2\u001b[39m.\u001b[39;49mwaitKey(\u001b[39m5\u001b[39;49m) \u001b[39m&\u001b[39m \u001b[39m0xFF\u001b[39m \u001b[39m==\u001b[39m \u001b[39m27\u001b[39m:\n\u001b[0;32m     <a href='vscode-notebook-cell:/f%3A/Semester%2010/Robotics/Hand%20detection.ipynb#W0sZmlsZQ%3D%3D?line=51'>52</a>\u001b[0m             \u001b[39mbreak\u001b[39;00m\n\u001b[0;32m     <a href='vscode-notebook-cell:/f%3A/Semester%2010/Robotics/Hand%20detection.ipynb#W0sZmlsZQ%3D%3D?line=53'>54</a>\u001b[0m \u001b[39mif\u001b[39;00m cv2\u001b[39m.\u001b[39mwaitKey(\u001b[39m1\u001b[39m)\u001b[39m==\u001b[39m\u001b[39m27\u001b[39m:\n",
      "\u001b[1;31mKeyboardInterrupt\u001b[0m: "
     ]
    }
   ],
   "source": [
    "import cv2\n",
    "import mediapipe as mp\n",
    "import math\n",
    "mp_drawing = mp.solutions.drawing_utils\n",
    "mp_hands = mp.solutions.hands\n",
    "\n",
    "cap = cv2.VideoCapture(0)\n",
    "\n",
    "with mp_hands.Hands(\n",
    "    static_image_mode=True,\n",
    "    max_num_hands=2,\n",
    "    min_detection_confidence=0.5,\n",
    "    min_tracking_confidence=0.5) as hands:\n",
    "    \n",
    "    while cap.isOpened():\n",
    "        success, image = cap.read()\n",
    "        if not success:\n",
    "            break\n",
    "\n",
    "        image = cv2.cvtColor(cv2.flip(image, 1), cv2.COLOR_BGR2RGB)\n",
    "        results = hands.process(image)\n",
    "\n",
    "        #print(results.multi_hand_landmarks) #prints if there is solution or not, so if a hand is not seen it will print none if a hand is seen it gives the landmarks coordinats\n",
    "        image.flags.writeable = True\n",
    "        image = cv2.cvtColor(image, cv2.COLOR_RGB2BGR)\n",
    "\n",
    "        if results.multi_hand_landmarks:\n",
    "            for hand_landmarks in results.multi_hand_landmarks:\n",
    "                # Extract finger landmark positions\n",
    "                thumb_tip = hand_landmarks.landmark[mp_hands.HandLandmark.THUMB_TIP]\n",
    "                index_tip = hand_landmarks.landmark[mp_hands.HandLandmark.INDEX_FINGER_TIP]\n",
    "\n",
    "                # Calculate the Euclidean distance between the index and thumb tips\n",
    "                thumb_x, thumb_y = int(thumb_tip.x * image.shape[1]), int(thumb_tip.y * image.shape[0])\n",
    "                index_x, index_y = int(index_tip.x * image.shape[1]), int(index_tip.y * image.shape[0])\n",
    "                line_length = int(math.sqrt((thumb_x - index_x)**2 + (thumb_y - index_y)**2))\n",
    "                # for clarfication  image.shape[1] and image.shape[0] is the width and height of \n",
    "                # the image then simple multiplication is done to get the coordinates of the landmarks and then simple vector to gethe length of the line\n",
    "\n",
    "                # Draw a line between the index and thumb tips\n",
    "                cv2.line(image, (thumb_x, thumb_y), (index_x, index_y), (0, 255, 0), thickness=2, lineType=cv2.LINE_AA)\n",
    "\n",
    "                # Print the length of the line\n",
    "                cv2.putText(image, f\"Line length: {line_length}px\", (20, 40), cv2.FONT_HERSHEY_SIMPLEX, 1, (0, 255, 0), 2)\n",
    "\n",
    "                # Draw hand landmarks\n",
    "                mp_drawing.draw_landmarks(image, hand_landmarks, mp_hands.HAND_CONNECTIONS)\n",
    "\n",
    "            cv2.imshow('MediaPipe Hands', image)\n",
    "\n",
    "\n",
    "\n",
    "        if cv2.waitKey(5) & 0xFF == 27:\n",
    "            break\n",
    "\n",
    "if cv2.waitKey(1)==27:\n",
    "    cv2.destroyAllWindows()\n",
    "    cap.release()\n",
    "    \n"
   ]
  }
 ],
 "metadata": {
  "kernelspec": {
   "display_name": "base",
   "language": "python",
   "name": "python3"
  },
  "language_info": {
   "codemirror_mode": {
    "name": "ipython",
    "version": 3
   },
   "file_extension": ".py",
   "mimetype": "text/x-python",
   "name": "python",
   "nbconvert_exporter": "python",
   "pygments_lexer": "ipython3",
   "version": "3.9.12"
  },
  "orig_nbformat": 4
 },
 "nbformat": 4,
 "nbformat_minor": 2
}
